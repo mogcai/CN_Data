{
 "cells": [
  {
   "cell_type": "code",
   "execution_count": 1,
   "metadata": {},
   "outputs": [],
   "source": [
    "import pandas as pd\n",
    "import requests\n",
    "import urllib\n",
    "from datetime import datetime"
   ]
  },
  {
   "cell_type": "code",
   "execution_count": 2,
   "metadata": {},
   "outputs": [],
   "source": [
    "def get_json(url):\n",
    "    headers = {'User-Agent': 'Mozilla/5.0 (Macintosh; Intel Mac OS X 10_10_1) AppleWebKit/537.36 (KHTML, like Gecko) Chrome/39.0.2171.95 Safari/537.36'}\n",
    "    r=requests.get(url, headers=headers)\n",
    "    if r.ok:\n",
    "        data=r.json()\n",
    "        if data['returncode']!=200:\n",
    "            data=None\n",
    "    else:\n",
    "        data=None\n",
    "    return data "
   ]
  },
  {
   "cell_type": "code",
   "execution_count": 3,
   "metadata": {},
   "outputs": [],
   "source": [
    "def get_df(url):\n",
    "    data=get_json(url)\n",
    "    if data is not None:\n",
    "        name={i['code']: i['cname'] for i in data['returndata']['wdnodes'][0]['nodes']}\n",
    "        value=[i['data']['data']  for i in data['returndata']['datanodes']]\n",
    "        date=[i['wds'][1]['valuecode']  for i in data['returndata']['datanodes']]\n",
    "        code=[i['wds'][0]['valuecode']  for i in data['returndata']['datanodes']]\n",
    "\n",
    "        df=pd.DataFrame(dict(zip(['Code', 'Date', 'Value'], [code, date, value])))\n",
    "        df['Name']=df['Code'].map(name)\n",
    "        return df\n",
    "    else:\n",
    "        return None"
   ]
  },
  {
   "cell_type": "code",
   "execution_count": 4,
   "metadata": {},
   "outputs": [],
   "source": [
    "def get_url(start_time, end_time, sector):\n",
    "   # get current timestamp\n",
    "   now = datetime.now()\n",
    "   timestamp = int(now.timestamp())*1000\n",
    "\n",
    "   # generate enquiry dict\n",
    "   time=f'{start_time}-{end_time}'\n",
    "   \n",
    "   dict_time={'wdcode': 'sj', 'valuecode': time}\n",
    "   dict_sector={'wdcode': 'zb', 'valuecode': sector}\n",
    "   str_dfwds=(f'{dict_sector},{dict_time}').replace(' ','').replace('\\'','\\\"')\n",
    "\n",
    "   # formulate url\n",
    "   f={'m':'QueryData', 'dbcode':'hgyd', 'rowcode':'zb', 'colcode':'sj', 'wds':'[]', \n",
    "      'dfwds':f'[{str_dfwds}]', 'k1':f'{timestamp}'}\n",
    "   main_url='https://data.stats.gov.cn/easyquery.htm'\n",
    "   url=f'{main_url}?{urllib.parse.urlencode(f)}'\n",
    "   return url\n",
    "\n",
    "\n",
    "start_time='202304'\n",
    "end_time='202305'\n",
    "sector='A0601' #房地產\n",
    "sector='A030102' #原油产量\n",
    "sector='A0E01' #失業率\n",
    "sector='A0801' #進出口\n",
    "url=get_url(start_time, end_time, sector)"
   ]
  },
  {
   "cell_type": "code",
   "execution_count": 33,
   "metadata": {},
   "outputs": [
    {
     "data": {
      "text/plain": [
       "'https://data.stats.gov.cn/easyquery.htm?m=QueryData&dbcode=hgyd&rowcode=zb&colcode=sj&wds=%5B%5D&dfwds=%5B%7B%22wdcode%22%3A%22zb%22%2C%22valuecode%22%3A%22A0801%22%7D%2C%7B%22wdcode%22%3A%22sj%22%2C%22valuecode%22%3A%22202304-202305%22%7D%5D&k1=1721296316000'"
      ]
     },
     "execution_count": 33,
     "metadata": {},
     "output_type": "execute_result"
    }
   ],
   "source": [
    "url\n"
   ]
  },
  {
   "cell_type": "code",
   "execution_count": 48,
   "metadata": {},
   "outputs": [],
   "source": [
    "def get_data_content_list(code):\n",
    "    start_time='202304'\n",
    "    end_time='202305'\n",
    "    url=get_url(start_time, end_time, code)\n",
    "    df=get_df(url)\n",
    "    if df is None:\n",
    "        lst=None\n",
    "    else:\n",
    "        lst=df['Name'].drop_duplicates().to_list()\n",
    "    return {code: lst}\n",
    "\n"
   ]
  },
  {
   "cell_type": "code",
   "execution_count": 50,
   "metadata": {},
   "outputs": [
    {
     "data": {
      "text/plain": [
       "['A0100',\n",
       " 'A0101',\n",
       " 'A0102',\n",
       " 'A0103',\n",
       " 'A0104',\n",
       " 'A0105',\n",
       " 'A0106',\n",
       " 'A0107',\n",
       " 'A0108',\n",
       " 'A0109']"
      ]
     },
     "execution_count": 50,
     "metadata": {},
     "output_type": "execute_result"
    }
   ],
   "source": [
    "lst_code=[f'A0{str(i)}{str(j).zfill(2)}' for i in range(1,11) for j in range(0,11)]\n",
    "lst_code[:10]\n"
   ]
  },
  {
   "cell_type": "code",
   "execution_count": 54,
   "metadata": {},
   "outputs": [
    {
     "ename": "JSONDecodeError",
     "evalue": "Expecting value: line 1 column 1 (char 0)",
     "output_type": "error",
     "traceback": [
      "\u001b[1;31m---------------------------------------------------------------------------\u001b[0m",
      "\u001b[1;31mJSONDecodeError\u001b[0m                           Traceback (most recent call last)",
      "File \u001b[1;32md:\\Python\\China_data\\.venv\\Lib\\site-packages\\requests\\models.py:974\u001b[0m, in \u001b[0;36mResponse.json\u001b[1;34m(self, **kwargs)\u001b[0m\n\u001b[0;32m    973\u001b[0m \u001b[38;5;28;01mtry\u001b[39;00m:\n\u001b[1;32m--> 974\u001b[0m     \u001b[38;5;28;01mreturn\u001b[39;00m \u001b[43mcomplexjson\u001b[49m\u001b[38;5;241;43m.\u001b[39;49m\u001b[43mloads\u001b[49m\u001b[43m(\u001b[49m\u001b[38;5;28;43mself\u001b[39;49m\u001b[38;5;241;43m.\u001b[39;49m\u001b[43mtext\u001b[49m\u001b[43m,\u001b[49m\u001b[43m \u001b[49m\u001b[38;5;241;43m*\u001b[39;49m\u001b[38;5;241;43m*\u001b[39;49m\u001b[43mkwargs\u001b[49m\u001b[43m)\u001b[49m\n\u001b[0;32m    975\u001b[0m \u001b[38;5;28;01mexcept\u001b[39;00m JSONDecodeError \u001b[38;5;28;01mas\u001b[39;00m e:\n\u001b[0;32m    976\u001b[0m     \u001b[38;5;66;03m# Catch JSON-related errors and raise as requests.JSONDecodeError\u001b[39;00m\n\u001b[0;32m    977\u001b[0m     \u001b[38;5;66;03m# This aliases json.JSONDecodeError and simplejson.JSONDecodeError\u001b[39;00m\n",
      "File \u001b[1;32mC:\\Python312\\Lib\\json\\__init__.py:346\u001b[0m, in \u001b[0;36mloads\u001b[1;34m(s, cls, object_hook, parse_float, parse_int, parse_constant, object_pairs_hook, **kw)\u001b[0m\n\u001b[0;32m    343\u001b[0m \u001b[38;5;28;01mif\u001b[39;00m (\u001b[38;5;28mcls\u001b[39m \u001b[38;5;129;01mis\u001b[39;00m \u001b[38;5;28;01mNone\u001b[39;00m \u001b[38;5;129;01mand\u001b[39;00m object_hook \u001b[38;5;129;01mis\u001b[39;00m \u001b[38;5;28;01mNone\u001b[39;00m \u001b[38;5;129;01mand\u001b[39;00m\n\u001b[0;32m    344\u001b[0m         parse_int \u001b[38;5;129;01mis\u001b[39;00m \u001b[38;5;28;01mNone\u001b[39;00m \u001b[38;5;129;01mand\u001b[39;00m parse_float \u001b[38;5;129;01mis\u001b[39;00m \u001b[38;5;28;01mNone\u001b[39;00m \u001b[38;5;129;01mand\u001b[39;00m\n\u001b[0;32m    345\u001b[0m         parse_constant \u001b[38;5;129;01mis\u001b[39;00m \u001b[38;5;28;01mNone\u001b[39;00m \u001b[38;5;129;01mand\u001b[39;00m object_pairs_hook \u001b[38;5;129;01mis\u001b[39;00m \u001b[38;5;28;01mNone\u001b[39;00m \u001b[38;5;129;01mand\u001b[39;00m \u001b[38;5;129;01mnot\u001b[39;00m kw):\n\u001b[1;32m--> 346\u001b[0m     \u001b[38;5;28;01mreturn\u001b[39;00m \u001b[43m_default_decoder\u001b[49m\u001b[38;5;241;43m.\u001b[39;49m\u001b[43mdecode\u001b[49m\u001b[43m(\u001b[49m\u001b[43ms\u001b[49m\u001b[43m)\u001b[49m\n\u001b[0;32m    347\u001b[0m \u001b[38;5;28;01mif\u001b[39;00m \u001b[38;5;28mcls\u001b[39m \u001b[38;5;129;01mis\u001b[39;00m \u001b[38;5;28;01mNone\u001b[39;00m:\n",
      "File \u001b[1;32mC:\\Python312\\Lib\\json\\decoder.py:337\u001b[0m, in \u001b[0;36mJSONDecoder.decode\u001b[1;34m(self, s, _w)\u001b[0m\n\u001b[0;32m    333\u001b[0m \u001b[38;5;250m\u001b[39m\u001b[38;5;124;03m\"\"\"Return the Python representation of ``s`` (a ``str`` instance\u001b[39;00m\n\u001b[0;32m    334\u001b[0m \u001b[38;5;124;03mcontaining a JSON document).\u001b[39;00m\n\u001b[0;32m    335\u001b[0m \n\u001b[0;32m    336\u001b[0m \u001b[38;5;124;03m\"\"\"\u001b[39;00m\n\u001b[1;32m--> 337\u001b[0m obj, end \u001b[38;5;241m=\u001b[39m \u001b[38;5;28;43mself\u001b[39;49m\u001b[38;5;241;43m.\u001b[39;49m\u001b[43mraw_decode\u001b[49m\u001b[43m(\u001b[49m\u001b[43ms\u001b[49m\u001b[43m,\u001b[49m\u001b[43m \u001b[49m\u001b[43midx\u001b[49m\u001b[38;5;241;43m=\u001b[39;49m\u001b[43m_w\u001b[49m\u001b[43m(\u001b[49m\u001b[43ms\u001b[49m\u001b[43m,\u001b[49m\u001b[43m \u001b[49m\u001b[38;5;241;43m0\u001b[39;49m\u001b[43m)\u001b[49m\u001b[38;5;241;43m.\u001b[39;49m\u001b[43mend\u001b[49m\u001b[43m(\u001b[49m\u001b[43m)\u001b[49m\u001b[43m)\u001b[49m\n\u001b[0;32m    338\u001b[0m end \u001b[38;5;241m=\u001b[39m _w(s, end)\u001b[38;5;241m.\u001b[39mend()\n",
      "File \u001b[1;32mC:\\Python312\\Lib\\json\\decoder.py:355\u001b[0m, in \u001b[0;36mJSONDecoder.raw_decode\u001b[1;34m(self, s, idx)\u001b[0m\n\u001b[0;32m    354\u001b[0m \u001b[38;5;28;01mexcept\u001b[39;00m \u001b[38;5;167;01mStopIteration\u001b[39;00m \u001b[38;5;28;01mas\u001b[39;00m err:\n\u001b[1;32m--> 355\u001b[0m     \u001b[38;5;28;01mraise\u001b[39;00m JSONDecodeError(\u001b[38;5;124m\"\u001b[39m\u001b[38;5;124mExpecting value\u001b[39m\u001b[38;5;124m\"\u001b[39m, s, err\u001b[38;5;241m.\u001b[39mvalue) \u001b[38;5;28;01mfrom\u001b[39;00m \u001b[38;5;28;01mNone\u001b[39;00m\n\u001b[0;32m    356\u001b[0m \u001b[38;5;28;01mreturn\u001b[39;00m obj, end\n",
      "\u001b[1;31mJSONDecodeError\u001b[0m: Expecting value: line 1 column 1 (char 0)",
      "\nDuring handling of the above exception, another exception occurred:\n",
      "\u001b[1;31mJSONDecodeError\u001b[0m                           Traceback (most recent call last)",
      "Cell \u001b[1;32mIn[54], line 3\u001b[0m\n\u001b[0;32m      1\u001b[0m dict_content\u001b[38;5;241m=\u001b[39m{}\n\u001b[0;32m      2\u001b[0m \u001b[38;5;28;01mfor\u001b[39;00m code \u001b[38;5;129;01min\u001b[39;00m lst_code[:\u001b[38;5;241m50\u001b[39m]:\n\u001b[1;32m----> 3\u001b[0m     dict_content\u001b[38;5;241m.\u001b[39mupdate(\u001b[43mget_data_content_list\u001b[49m\u001b[43m(\u001b[49m\u001b[43mcode\u001b[49m\u001b[43m)\u001b[49m)\n",
      "Cell \u001b[1;32mIn[48], line 5\u001b[0m, in \u001b[0;36mget_data_content_list\u001b[1;34m(code)\u001b[0m\n\u001b[0;32m      3\u001b[0m end_time\u001b[38;5;241m=\u001b[39m\u001b[38;5;124m'\u001b[39m\u001b[38;5;124m202305\u001b[39m\u001b[38;5;124m'\u001b[39m\n\u001b[0;32m      4\u001b[0m url\u001b[38;5;241m=\u001b[39mget_url(start_time, end_time, code)\n\u001b[1;32m----> 5\u001b[0m df\u001b[38;5;241m=\u001b[39m\u001b[43mget_df\u001b[49m\u001b[43m(\u001b[49m\u001b[43murl\u001b[49m\u001b[43m)\u001b[49m\n\u001b[0;32m      6\u001b[0m \u001b[38;5;28;01mif\u001b[39;00m df \u001b[38;5;129;01mis\u001b[39;00m \u001b[38;5;28;01mNone\u001b[39;00m:\n\u001b[0;32m      7\u001b[0m     lst\u001b[38;5;241m=\u001b[39m\u001b[38;5;28;01mNone\u001b[39;00m\n",
      "Cell \u001b[1;32mIn[3], line 2\u001b[0m, in \u001b[0;36mget_df\u001b[1;34m(url)\u001b[0m\n\u001b[0;32m      1\u001b[0m \u001b[38;5;28;01mdef\u001b[39;00m \u001b[38;5;21mget_df\u001b[39m(url):\n\u001b[1;32m----> 2\u001b[0m     data\u001b[38;5;241m=\u001b[39m\u001b[43mget_json\u001b[49m\u001b[43m(\u001b[49m\u001b[43murl\u001b[49m\u001b[43m)\u001b[49m\n\u001b[0;32m      3\u001b[0m     \u001b[38;5;28;01mif\u001b[39;00m data \u001b[38;5;129;01mis\u001b[39;00m \u001b[38;5;129;01mnot\u001b[39;00m \u001b[38;5;28;01mNone\u001b[39;00m:\n\u001b[0;32m      4\u001b[0m         name\u001b[38;5;241m=\u001b[39m{i[\u001b[38;5;124m'\u001b[39m\u001b[38;5;124mcode\u001b[39m\u001b[38;5;124m'\u001b[39m]: i[\u001b[38;5;124m'\u001b[39m\u001b[38;5;124mcname\u001b[39m\u001b[38;5;124m'\u001b[39m] \u001b[38;5;28;01mfor\u001b[39;00m i \u001b[38;5;129;01min\u001b[39;00m data[\u001b[38;5;124m'\u001b[39m\u001b[38;5;124mreturndata\u001b[39m\u001b[38;5;124m'\u001b[39m][\u001b[38;5;124m'\u001b[39m\u001b[38;5;124mwdnodes\u001b[39m\u001b[38;5;124m'\u001b[39m][\u001b[38;5;241m0\u001b[39m][\u001b[38;5;124m'\u001b[39m\u001b[38;5;124mnodes\u001b[39m\u001b[38;5;124m'\u001b[39m]}\n",
      "Cell \u001b[1;32mIn[2], line 5\u001b[0m, in \u001b[0;36mget_json\u001b[1;34m(url)\u001b[0m\n\u001b[0;32m      3\u001b[0m r\u001b[38;5;241m=\u001b[39mrequests\u001b[38;5;241m.\u001b[39mget(url, headers\u001b[38;5;241m=\u001b[39mheaders)\n\u001b[0;32m      4\u001b[0m \u001b[38;5;28;01mif\u001b[39;00m r\u001b[38;5;241m.\u001b[39mok:\n\u001b[1;32m----> 5\u001b[0m     data\u001b[38;5;241m=\u001b[39m\u001b[43mr\u001b[49m\u001b[38;5;241;43m.\u001b[39;49m\u001b[43mjson\u001b[49m\u001b[43m(\u001b[49m\u001b[43m)\u001b[49m\n\u001b[0;32m      6\u001b[0m     \u001b[38;5;28;01mif\u001b[39;00m data[\u001b[38;5;124m'\u001b[39m\u001b[38;5;124mreturncode\u001b[39m\u001b[38;5;124m'\u001b[39m]\u001b[38;5;241m!=\u001b[39m\u001b[38;5;241m200\u001b[39m:\n\u001b[0;32m      7\u001b[0m         data\u001b[38;5;241m=\u001b[39m\u001b[38;5;28;01mNone\u001b[39;00m\n",
      "File \u001b[1;32md:\\Python\\China_data\\.venv\\Lib\\site-packages\\requests\\models.py:978\u001b[0m, in \u001b[0;36mResponse.json\u001b[1;34m(self, **kwargs)\u001b[0m\n\u001b[0;32m    974\u001b[0m     \u001b[38;5;28;01mreturn\u001b[39;00m complexjson\u001b[38;5;241m.\u001b[39mloads(\u001b[38;5;28mself\u001b[39m\u001b[38;5;241m.\u001b[39mtext, \u001b[38;5;241m*\u001b[39m\u001b[38;5;241m*\u001b[39mkwargs)\n\u001b[0;32m    975\u001b[0m \u001b[38;5;28;01mexcept\u001b[39;00m JSONDecodeError \u001b[38;5;28;01mas\u001b[39;00m e:\n\u001b[0;32m    976\u001b[0m     \u001b[38;5;66;03m# Catch JSON-related errors and raise as requests.JSONDecodeError\u001b[39;00m\n\u001b[0;32m    977\u001b[0m     \u001b[38;5;66;03m# This aliases json.JSONDecodeError and simplejson.JSONDecodeError\u001b[39;00m\n\u001b[1;32m--> 978\u001b[0m     \u001b[38;5;28;01mraise\u001b[39;00m RequestsJSONDecodeError(e\u001b[38;5;241m.\u001b[39mmsg, e\u001b[38;5;241m.\u001b[39mdoc, e\u001b[38;5;241m.\u001b[39mpos)\n",
      "\u001b[1;31mJSONDecodeError\u001b[0m: Expecting value: line 1 column 1 (char 0)"
     ]
    }
   ],
   "source": [
    "dict_content={}\n",
    "for code in lst_code[:50]:\n",
    "    dict_content.update(get_data_content_list(code))"
   ]
  },
  {
   "cell_type": "code",
   "execution_count": null,
   "metadata": {},
   "outputs": [
    {
     "data": {
      "text/plain": [
       "{'A0100': None,\n",
       " 'A0101': None,\n",
       " 'A0102': None,\n",
       " 'A0103': None,\n",
       " 'A0104': None,\n",
       " 'A0105': None,\n",
       " 'A0106': None,\n",
       " 'A0107': None,\n",
       " 'A0108': None,\n",
       " 'A0109': ['工业生产者出厂价格指数(上年同月=100)',\n",
       "  '煤炭开采和洗选业工业生产者出厂价格指数(上年同月=100)',\n",
       "  '石油和天然气开采业工业生产者出厂价格指数(上年同月=100)',\n",
       "  '黑色金属矿采选业工业生产者出厂价格指数(上年同月=100)',\n",
       "  '有色金属矿采选业工业生产者出厂价格指数(上年同月=100)',\n",
       "  '非金属矿采选业工业生产者出厂价格指数(上年同月=100)',\n",
       "  '其他采矿业工业生产者出厂价格指数(上年同月=100)',\n",
       "  '农副食品加工业工业生产者出厂价格指数(上年同月=100)',\n",
       "  '食品制造业工业生产者出厂价格指数(上年同月=100)',\n",
       "  '饮料制造业工业生产者出厂价格指数(上年同月=100)',\n",
       "  '烟草制品业工业生产者出厂价格指数(上年同月=100)',\n",
       "  '纺织业工业生产者出厂价格指数(上年同月=100)',\n",
       "  '纺织服装、鞋、帽制造业工业生产者出厂价格指数(上年同月=100)',\n",
       "  '皮革、毛皮、羽毛(绒)及其制品业工业生产者出厂价格指数(上年同月=100)',\n",
       "  '木材加工及木、竹、藤、棕、草制品业工业生产者出厂价格指数(上年同月=100)',\n",
       "  '家具制造业工业生产者出厂价格指数(上年同月=100)',\n",
       "  '造纸及纸制品业工业生产者出厂价格指数(上年同月=100)',\n",
       "  '印刷业和记录媒介的复制工业生产者出厂价格指数(上年同月=100)',\n",
       "  '文教体育用品制造业工业生产者出厂价格指数(上年同月=100)',\n",
       "  '石油加工、炼焦及核燃料加工业工业生产者出厂价格指数(上年同月=100)',\n",
       "  '化学原料及化学制品制造业工业生产者出厂价格指数(上年同月=100)',\n",
       "  '医药制造业工业生产者出厂价格指数(上年同月=100)',\n",
       "  '化学纤维制造业工业生产者出厂价格指数(上年同月=100)',\n",
       "  '橡胶制品业工业生产者出厂价格指数(上年同月=100)',\n",
       "  '塑料制品业工业生产者出厂价格指数(上年同月=100)',\n",
       "  '非金属矿物制品业工业生产者出厂价格指数(上年同月=100)',\n",
       "  '黑色金属冶炼及压延加工业工业生产者出厂价格指数(上年同月=100)',\n",
       "  '有色金属冶炼及压延加工业工业生产者出厂价格指数(上年同月=100)',\n",
       "  '金属制品业工业生产者出厂价格指数(上年同月=100)',\n",
       "  '通用设备制造业工业生产者出厂价格指数(上年同月=100)',\n",
       "  '专用设备制造业工业生产者出厂价格指数(上年同月=100)',\n",
       "  '交通运输设备制造业工业生产者出厂价格指数(上年同月=100)',\n",
       "  '电气机械及器材制造业工业生产者出厂价格指数(上年同月=100)',\n",
       "  '通信设备、计算机及其他电子设备制造工业生产者出厂价格指数(上年同月=100)',\n",
       "  '仪器仪表及文化、办公用机械制造业工业生产者出厂价格指数(上年同月=100)',\n",
       "  '工艺品及其他制造业工业生产者出厂价格指数(上年同月=100)',\n",
       "  '废弃资源和废旧材料回收加工业工业生产者出厂价格指数(上年同月=100)',\n",
       "  '电力、热力的生产和供应业工业生产者出厂价格指数(上年同月=100)',\n",
       "  '燃气生产和供应业工业生产者出厂价格指数(上年同月=100)',\n",
       "  '水的生产和供应业工业生产者出厂价格指数(上年同月=100)']}"
      ]
     },
     "execution_count": 53,
     "metadata": {},
     "output_type": "execute_result"
    }
   ],
   "source": [
    "dict_content"
   ]
  },
  {
   "cell_type": "code",
   "execution_count": 7,
   "metadata": {},
   "outputs": [],
   "source": [
    "# df['Date']=pd.to_datetime(df['Date'], format='%Y%m')\n",
    "# df[df['Name'].str.contains('进出口差额_累计值')][['Date', 'Value']].set_index('Date').plot(title='Average working hour')"
   ]
  },
  {
   "cell_type": "code",
   "execution_count": null,
   "metadata": {},
   "outputs": [],
   "source": []
  }
 ],
 "metadata": {
  "kernelspec": {
   "display_name": ".venv",
   "language": "python",
   "name": "python3"
  },
  "language_info": {
   "codemirror_mode": {
    "name": "ipython",
    "version": 3
   },
   "file_extension": ".py",
   "mimetype": "text/x-python",
   "name": "python",
   "nbconvert_exporter": "python",
   "pygments_lexer": "ipython3",
   "version": "3.12.0"
  }
 },
 "nbformat": 4,
 "nbformat_minor": 2
}
